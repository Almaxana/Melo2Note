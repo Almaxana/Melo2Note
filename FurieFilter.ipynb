{
 "cells": [
  {
   "cell_type": "code",
   "execution_count": 95,
   "outputs": [],
   "source": [
    "import librosa\n",
    "import numpy as np\n",
    "import matplotlib.pyplot as plt\n",
    "from sklearn.cluster import DBSCAN\n",
    "import soundfile as sf"
   ],
   "metadata": {
    "collapsed": false
   }
  },
  {
   "cell_type": "code",
   "execution_count": 96,
   "outputs": [],
   "source": [
    "note_freqs = {\n",
    "    \"C4\": 261.63,\n",
    "    \"C#4\": 277.18,\n",
    "    \"D4\": 293.66,\n",
    "    \"D#4\": 311.13,\n",
    "    \"E4\": 329.63,\n",
    "    \"F4\": 349.23,\n",
    "    \"F#4\": 369.99,\n",
    "    \"G4\": 392.00,\n",
    "    \"G#4\": 415.30,\n",
    "    \"A4\": 440.00,\n",
    "    \"A#4\": 466.16,\n",
    "    \"B4\": 493.88,\n",
    "\n",
    "    \"C5\": 523.25,\n",
    "    \"C#5\": 554.37,\n",
    "    \"D5\": 587.33,\n",
    "    \"D#5\": 622.25,\n",
    "    \"E5\": 659.26,\n",
    "    \"F5\": 698.46,\n",
    "    \"F#5\": 739.99,\n",
    "    \"G5\": 783.99,\n",
    "    \"G#5\": 830.61,\n",
    "    \"A5\": 880.00,\n",
    "    \"A#5\": 932.33,\n",
    "    \"B5\": 987.77,\n",
    "\n",
    "    \"C6\": 1046.50,\n",
    "    \"C#6\": 1108.73,\n",
    "    \"D6\": 1174.66,\n",
    "    \"D#6\": 1244.51,\n",
    "    \"E6\": 1318.51,\n",
    "    \"F6\": 1396.91,\n",
    "    \"F#6\": 1479.98,\n",
    "    \"G6\": 1567.98,\n",
    "    \"G#6\": 1661.22,\n",
    "    \"A6\": 1760.00,\n",
    "    \"A#6\": 1864.66,\n",
    "    \"B6\": 1975.53\n",
    "}\n"
   ],
   "metadata": {
    "collapsed": false
   }
  },
  {
   "cell_type": "code",
   "execution_count": 97,
   "outputs": [],
   "source": [
    "general_dir = \"Melodies/\"\n",
    "melody_dir = \"TurkishMarch/\"\n",
    "melody_name = \"TurkishMarch.mp3\"\n",
    "\n",
    "num_segments = 20\n",
    "threshold = 20\n",
    "\n",
    "eps_dbscan = 20\n",
    "min_samples = 2"
   ],
   "metadata": {
    "collapsed": false
   }
  },
  {
   "cell_type": "code",
   "execution_count": 98,
   "outputs": [],
   "source": [
    "def freq_to_note_label(freq, note_freqs, tolerance=10):\n",
    "    closest_note = None\n",
    "    min_diff = tolerance + 1\n",
    "    for note, note_freq in note_freqs.items():\n",
    "        diff = abs(freq - note_freq)\n",
    "        if diff < min_diff:\n",
    "            min_diff = diff\n",
    "            closest_note = note\n",
    "    return closest_note if min_diff <= tolerance else None"
   ],
   "metadata": {
    "collapsed": false
   }
  },
  {
   "cell_type": "code",
   "execution_count": 99,
   "outputs": [],
   "source": [
    "def visualise(segments_filtered_freqs, segments_filtered_ampls, segments_clustered_freqs, segments_clustered_ampls, display_freq):\n",
    "    indices_to_display = list(range(0, len(segments_filtered_freqs), display_freq))\n",
    "    num_to_display = len(indices_to_display)\n",
    "\n",
    "    fig, axes = plt.subplots(num_to_display, 2, figsize=(14, 3 * num_to_display))\n",
    "    if num_to_display == 1:\n",
    "        axes = np.array([axes])\n",
    "\n",
    "    for ax_idx, i in enumerate(indices_to_display):\n",
    "        # Before clustering\n",
    "        ax_orig = axes[ax_idx, 0]\n",
    "        ax_orig.bar(segments_filtered_freqs[i], segments_filtered_ampls[i], width=5)\n",
    "        ax_orig.set_title(f\"Сегмент {i + 1} — до кластеризации\")\n",
    "        ax_orig.set_xlabel(\"Частота (Гц)\")\n",
    "        ax_orig.set_ylabel(\"Амплитуда\")\n",
    "        ax_orig.grid(True)\n",
    "\n",
    "        # After clustering\n",
    "        ax_cluster = axes[ax_idx, 1]\n",
    "        if len(segments_filtered_freqs[i]) == 0:\n",
    "            ax_cluster.set_title(f\"Сегмент {i + 1} — пустой\")\n",
    "            ax_cluster.axis('off')\n",
    "            continue\n",
    "\n",
    "        if len(segments_clustered_freqs[i]) == 0:\n",
    "            ax_cluster.set_title(f\"Сегмент {i + 1} — все точки шум\")\n",
    "            ax_cluster.axis('off')\n",
    "            continue\n",
    "\n",
    "        ax_cluster.bar(segments_clustered_freqs[i], segments_clustered_ampls[i], width=5)\n",
    "        ax_cluster.set_title(f\"Сегмент {i + 1} — после DBSCAN\")\n",
    "        ax_cluster.set_xlabel(\"Частота (Гц)\")\n",
    "        ax_cluster.set_ylabel(\"Максимальная амплитуда\")\n",
    "        ax_cluster.grid(True)\n",
    "\n",
    "        # Note labels\n",
    "        note_labels_cluster = []\n",
    "        note_positions_cluster = []\n",
    "        for freq in segments_clustered_freqs[i]:\n",
    "            label = freq_to_note_label(freq, note_freqs)\n",
    "            if label:\n",
    "                note_labels_cluster.append(label)\n",
    "                note_positions_cluster.append(freq)\n",
    "\n",
    "        ax_cluster.set_xticks(note_positions_cluster)\n",
    "        ax_cluster.set_xticklabels(note_labels_cluster, rotation=45, fontsize=8)\n",
    "\n",
    "    plt.tight_layout()\n",
    "    plt.show()\n"
   ],
   "metadata": {
    "collapsed": false
   }
  },
  {
   "cell_type": "code",
   "execution_count": 100,
   "outputs": [],
   "source": [
    "def sound_generation(segments_clustered_freqs, segments_clustered_ampls):\n",
    "    duration = segment_length / sr  # длительность одного сегмента (в секундах)\n",
    "    time = np.linspace(0, duration, segment_length, endpoint=False)\n",
    "    reconstructed_segments = []\n",
    "\n",
    "    for i in range(num_segments):\n",
    "        if len(segments_clustered_freqs[i]) == 0:\n",
    "            reconstructed_segments.append(np.zeros_like(segment))\n",
    "            continue\n",
    "\n",
    "        # Sound generation\n",
    "        segment_signal = np.zeros(segment_length)\n",
    "        for freq, amp in zip(segments_clustered_freqs[i], segments_clustered_ampls[i]):\n",
    "            segment_signal += amp * np.sin(2 * np.pi * freq * time)\n",
    "        segment_signal /= np.max(np.abs(segment_signal) + 1e-9)\n",
    "        reconstructed_segments.append(segment_signal)\n",
    "\n",
    "    # Segments union\n",
    "    reconstructed_audio = np.concatenate(reconstructed_segments)\n",
    "    sf.write(general_dir + melody_dir + \"reconstructed.wav\", reconstructed_audio, sr)\n",
    "    print(\"✅ Аудио сохранено как 'reconstructed.wav'\")\n"
   ],
   "metadata": {
    "collapsed": false
   }
  },
  {
   "cell_type": "code",
   "execution_count": 101,
   "outputs": [],
   "source": [
    "def chords_to_text(segments_clustered_freqs):\n",
    "    with open(general_dir + melody_dir + \"chords.txt\", \"w\", encoding=\"utf-8\") as f:\n",
    "        for i in range(len(segments_clustered_freqs)):\n",
    "            chord_notes = []\n",
    "            for freq in segments_clustered_freqs[i]:\n",
    "                note = freq_to_note_label(freq, note_freqs)\n",
    "                if note:\n",
    "                    chord_notes.append(note)\n",
    "\n",
    "            if chord_notes:\n",
    "                f.write(f\"Сегмент {i+1}: [{', '.join(chord_notes)}]\\n\")\n",
    "            else:\n",
    "                f.write(f\"Сегмент {i+1}: [не определено]\\n\")\n"
   ],
   "metadata": {
    "collapsed": false
   }
  },
  {
   "cell_type": "code",
   "execution_count": 102,
   "outputs": [
    {
     "name": "stdout",
     "output_type": "stream",
     "text": [
      "✅ Аудио сохранено как 'reconstructed.wav'\n"
     ]
    }
   ],
   "source": [
    "audio_path = general_dir + melody_dir + melody_name\n",
    "y, sr = librosa.load(audio_path, sr=None, mono=True)\n",
    "\n",
    "segment_length = len(y) // num_segments\n",
    "\n",
    "segments_filtered_freqs = []\n",
    "segments_filtered_ampls = []\n",
    "segments_clustered_freqs = []\n",
    "segments_clustered_ampls = []\n",
    "\n",
    "for i in range(num_segments):\n",
    "    start = i * segment_length\n",
    "    end = len(y) if i == num_segments - 1 else (i + 1) * segment_length\n",
    "    segment = y[start:end]\n",
    "\n",
    "    n = len(segment)\n",
    "    freqs = np.fft.fftfreq(n, d=1/sr)\n",
    "    fft_vals = np.abs(np.fft.fft(segment))\n",
    "\n",
    "    # Only positive freqs\n",
    "    freqs = freqs[:n // 2]\n",
    "    fft_vals = fft_vals[:n // 2]\n",
    "\n",
    "    # Remove weal freqs\n",
    "    mask = fft_vals >= threshold\n",
    "    filtered_freqs = freqs[mask]\n",
    "    filtered_fft_vals = fft_vals[mask]\n",
    "    segments_filtered_freqs.append(filtered_freqs)\n",
    "    segments_filtered_ampls.append(filtered_fft_vals)\n",
    "\n",
    "    if len(filtered_freqs) == 0:\n",
    "        segments_clustered_freqs.append(np.array([]))\n",
    "        segments_clustered_ampls.append(np.array([]))\n",
    "        continue\n",
    "\n",
    "    # Clustering\n",
    "    dbscan = DBSCAN(eps=eps_dbscan, min_samples=min_samples)\n",
    "    labels = dbscan.fit_predict(filtered_freqs.reshape(-1, 1))\n",
    "\n",
    "    unique_labels = set(labels)\n",
    "    unique_labels.discard(-1)\n",
    "\n",
    "    cluster_freqs = []\n",
    "    cluster_amps = []\n",
    "\n",
    "    for label in unique_labels:\n",
    "        freqs_cluster = filtered_freqs[labels == label]\n",
    "        amps_cluster = filtered_fft_vals[labels == label]\n",
    "\n",
    "        if len(freqs_cluster) == 0:\n",
    "            continue\n",
    "\n",
    "        idx_max = np.argmax(amps_cluster)\n",
    "        cluster_freqs.append(freqs_cluster[idx_max])\n",
    "        cluster_amps.append(amps_cluster[idx_max])\n",
    "\n",
    "    if not cluster_freqs:\n",
    "        segments_clustered_freqs.append(np.array([]))\n",
    "        segments_clustered_ampls.append(np.array([]))\n",
    "        continue\n",
    "\n",
    "    cluster_freqs = np.array(cluster_freqs)\n",
    "    cluster_amps = np.array(cluster_amps)\n",
    "    sorted_idx = np.argsort(cluster_freqs)\n",
    "    cluster_freqs = cluster_freqs[sorted_idx]\n",
    "    cluster_amps = cluster_amps[sorted_idx]\n",
    "\n",
    "    segments_clustered_freqs.append(cluster_freqs)\n",
    "    segments_clustered_ampls.append(cluster_amps)\n",
    "\n",
    "# visualise(segments_filtered_freqs, segments_filtered_ampls, segments_clustered_freqs, segments_clustered_ampls, 20)\n",
    "sound_generation(segments_clustered_freqs, segments_clustered_ampls)\n",
    "chords_to_text(segments_clustered_freqs)"
   ],
   "metadata": {
    "collapsed": false
   }
  }
 ],
 "metadata": {
  "kernelspec": {
   "display_name": "Python 3",
   "language": "python",
   "name": "python3"
  },
  "language_info": {
   "codemirror_mode": {
    "name": "ipython",
    "version": 2
   },
   "file_extension": ".py",
   "mimetype": "text/x-python",
   "name": "python",
   "nbconvert_exporter": "python",
   "pygments_lexer": "ipython2",
   "version": "2.7.6"
  }
 },
 "nbformat": 4,
 "nbformat_minor": 0
}
